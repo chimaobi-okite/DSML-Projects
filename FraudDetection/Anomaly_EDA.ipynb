{
  "nbformat": 4,
  "nbformat_minor": 0,
  "metadata": {
    "colab": {
      "name": "Anomaly_EDA.ipynb",
      "provenance": []
    },
    "kernelspec": {
      "name": "python3",
      "display_name": "Python 3"
    },
    "language_info": {
      "name": "python"
    }
  },
  "cells": [
    {
      "cell_type": "markdown",
      "source": [
        "## Problem Description"
      ],
      "metadata": {
        "id": "8BMZDvU65B4R"
      }
    },
    {
      "cell_type": "markdown",
      "source": [
        "#### Context:\n",
        "Traditionally, the design of a cellular network focuses on the optimization of energy and resources that guarantees a smooth operation even during peak hours (i.e. periods with higher traffic load). However, this implies that cells are most of the time overprovisioned of radio resources. Next generation cellular networks ask for a dynamic management and configuration in order to adapt to the varying user demands in the most efficient way with regards to energy savings and utilization of frequency resources. If the network operator were capable of anticipating to those variations in the users’ traffic demands, a more efficient management of the scarce (and expensive) network resources would be possible.\n",
        "Current research in mobile networks looks upon Machine Learning (ML) techniques to help manage those resources. In this case, you will explore the possibilities of ML to detect abnormal behaviors in the utilization of the network that would motivate a change in the configuration of the base station.\n",
        "\n",
        "#### Goal:\n",
        "The objective of the network optimization team is to analyze traces of past activity, which will be used to train an ML system capable of classifying samples of current activity as:\n",
        "• 0 (normal): current activity corresponds to normal behavior of any working day and. Therefore, no re-configuration or redistribution of resources is needed.\n",
        "• 1 (unusual): current activity slightly differs from the behavior usually observed for that time of the day (e.g. due to a strike, demonstration, sports event, etc.), which should trigger a reconfiguration of the base station."
      ],
      "metadata": {
        "id": "I9c7svAE5NLV"
      }
    },
    {
      "cell_type": "markdown",
      "source": [
        "## Data Collection\n",
        "\n"
      ],
      "metadata": {
        "id": "HVnW_Afg6UYU"
      }
    },
    {
      "cell_type": "markdown",
      "source": [
        "#### Content:\n",
        "The dataset has been obtained from a real LTE deployment. During two weeks, different metrics were gathered from a set of 10 base stations, each having a different number of cells, every 15 minutes. The dataset is provided in the form of a csv file, where each row corresponds to a sample obtained from one particular cell at a certain time. Each data example contains the following features:\n",
        "\n",
        "* Time : hour of the day (in the format hh:mm) when the sample was generated.\n",
        "* CellName1: text string used to uniquely identify the cell that generated the current sample. CellName is in the form xαLTE, where x identifies the base station, and α the cell within that base station.\n",
        "*  PRBUsageUL and PRBUsageDL: level of resource utilization in that cell measured as the portion of Physical Radio Blocks (PRB) that were in use (%) in the previous 15 minutes. Uplink (UL) and downlink (DL) are measured separately.\n",
        "* meanThrDL and meanThrUL: average carried traffic (in Mbps) during the past 15 minutes. Uplink (UL) and downlink (DL) are measured separately.\n",
        "* maxThrDL and maxThrUL: maximum carried traffic (in Mbps) measured in the last 15 minutes. Uplink (UL) and downlink (DL) are measured separately.\n",
        "* meanUEDL and meanUEUL: average number of user equipment (UE) devices that were simultaneously active during the last 15 minutes. Uplink (UL) and downlink (DL) are measured separately.\n",
        "* maxUEDL and maxUEUL: maximum number of user equipment (UE) devices that were simultaneously active during the last 15 minutes. Uplink (UL) and downlink (DL) are measured separately.\n",
        "* maxUE_UL+DL: maximum number of user equipment (UE) devices that were active simultaneously in the last 15 minutes, regardless of UL and DL.\n",
        "\n",
        "* Unusual: labels for supervised learning. A value of 0 determines that the sample corresponds to normal operation, a value of 1 identifies unusual behavior.\n",
        "\n",
        "The dataset is from [Kagge](https://www.kaggle.com/competitions/anomaly-detection-in-cellular-networks/overview)"
      ],
      "metadata": {
        "id": "gwtZmWn86jxj"
      }
    },
    {
      "cell_type": "markdown",
      "source": [
        "## Expository Data Analysis"
      ],
      "metadata": {
        "id": "58_Nv7WW78te"
      }
    },
    {
      "cell_type": "code",
      "execution_count": 1,
      "metadata": {
        "id": "Ktg4WZvT47C1"
      },
      "outputs": [],
      "source": [
        "## Import the neccessary libraries\n",
        "\n",
        "import pandas as pd\n",
        "import numpy as np\n",
        "import matplotlib.pyplot as plt\n",
        "import seaborn as sns"
      ]
    },
    {
      "cell_type": "code",
      "source": [
        "## Read the data\n",
        "train = pd.read_csv('https://raw.githubusercontent.com/chimaobi-okite/DSML-Projects/main/FraudDetection/ML-MATT-CompetitionQT1920_train.csv',\n",
        "                    encoding='windows-1252')\n",
        "test = pd.read_csv('https://raw.githubusercontent.com/chimaobi-okite/DSML-Projects/main/FraudDetection/ML-MATT-CompetitionQT1920_test.csv',\n",
        "                   encoding='windows-1252')"
      ],
      "metadata": {
        "id": "7pYdzP9d8eeH"
      },
      "execution_count": 2,
      "outputs": []
    },
    {
      "cell_type": "code",
      "source": [
        "train.head()"
      ],
      "metadata": {
        "colab": {
          "base_uri": "https://localhost:8080/",
          "height": 270
        },
        "id": "0TbVLWBg89t8",
        "outputId": "ed251d0c-1a31-47ac-fa8e-9c3ee351fe3e"
      },
      "execution_count": 3,
      "outputs": [
        {
          "output_type": "execute_result",
          "data": {
            "text/plain": [
              "    Time CellName  PRBUsageUL  PRBUsageDL  meanThr_DL  meanThr_UL  maxThr_DL  \\\n",
              "0  10:45    3BLTE      11.642       1.393       0.370       0.041     15.655   \n",
              "1   9:45    1BLTE      21.791       1.891       0.537       0.268     10.273   \n",
              "2   7:45    9BLTE       0.498       0.398       0.015       0.010      0.262   \n",
              "3   2:45    4ALTE       1.891       1.095       0.940       0.024     60.715   \n",
              "4   3:30   10BLTE       0.303       0.404       0.016       0.013      0.348   \n",
              "\n",
              "   maxThr_UL  meanUE_DL  meanUE_UL  maxUE_DL  maxUE_UL maxUE_UL+DL  Unusual  \n",
              "0      0.644      1.114      1.025       4.0       3.0           7        1  \n",
              "1      1.154      1.353      1.085       6.0       4.0          10        1  \n",
              "2      0.164      0.995      0.995       1.0       1.0           2        1  \n",
              "3      0.825      1.035      0.995       2.0       2.0           4        1  \n",
              "4      0.168      1.011      1.011       2.0       1.0           3        0  "
            ],
            "text/html": [
              "\n",
              "  <div id=\"df-5ee59754-a137-42c7-9e16-d5005674c809\">\n",
              "    <div class=\"colab-df-container\">\n",
              "      <div>\n",
              "<style scoped>\n",
              "    .dataframe tbody tr th:only-of-type {\n",
              "        vertical-align: middle;\n",
              "    }\n",
              "\n",
              "    .dataframe tbody tr th {\n",
              "        vertical-align: top;\n",
              "    }\n",
              "\n",
              "    .dataframe thead th {\n",
              "        text-align: right;\n",
              "    }\n",
              "</style>\n",
              "<table border=\"1\" class=\"dataframe\">\n",
              "  <thead>\n",
              "    <tr style=\"text-align: right;\">\n",
              "      <th></th>\n",
              "      <th>Time</th>\n",
              "      <th>CellName</th>\n",
              "      <th>PRBUsageUL</th>\n",
              "      <th>PRBUsageDL</th>\n",
              "      <th>meanThr_DL</th>\n",
              "      <th>meanThr_UL</th>\n",
              "      <th>maxThr_DL</th>\n",
              "      <th>maxThr_UL</th>\n",
              "      <th>meanUE_DL</th>\n",
              "      <th>meanUE_UL</th>\n",
              "      <th>maxUE_DL</th>\n",
              "      <th>maxUE_UL</th>\n",
              "      <th>maxUE_UL+DL</th>\n",
              "      <th>Unusual</th>\n",
              "    </tr>\n",
              "  </thead>\n",
              "  <tbody>\n",
              "    <tr>\n",
              "      <th>0</th>\n",
              "      <td>10:45</td>\n",
              "      <td>3BLTE</td>\n",
              "      <td>11.642</td>\n",
              "      <td>1.393</td>\n",
              "      <td>0.370</td>\n",
              "      <td>0.041</td>\n",
              "      <td>15.655</td>\n",
              "      <td>0.644</td>\n",
              "      <td>1.114</td>\n",
              "      <td>1.025</td>\n",
              "      <td>4.0</td>\n",
              "      <td>3.0</td>\n",
              "      <td>7</td>\n",
              "      <td>1</td>\n",
              "    </tr>\n",
              "    <tr>\n",
              "      <th>1</th>\n",
              "      <td>9:45</td>\n",
              "      <td>1BLTE</td>\n",
              "      <td>21.791</td>\n",
              "      <td>1.891</td>\n",
              "      <td>0.537</td>\n",
              "      <td>0.268</td>\n",
              "      <td>10.273</td>\n",
              "      <td>1.154</td>\n",
              "      <td>1.353</td>\n",
              "      <td>1.085</td>\n",
              "      <td>6.0</td>\n",
              "      <td>4.0</td>\n",
              "      <td>10</td>\n",
              "      <td>1</td>\n",
              "    </tr>\n",
              "    <tr>\n",
              "      <th>2</th>\n",
              "      <td>7:45</td>\n",
              "      <td>9BLTE</td>\n",
              "      <td>0.498</td>\n",
              "      <td>0.398</td>\n",
              "      <td>0.015</td>\n",
              "      <td>0.010</td>\n",
              "      <td>0.262</td>\n",
              "      <td>0.164</td>\n",
              "      <td>0.995</td>\n",
              "      <td>0.995</td>\n",
              "      <td>1.0</td>\n",
              "      <td>1.0</td>\n",
              "      <td>2</td>\n",
              "      <td>1</td>\n",
              "    </tr>\n",
              "    <tr>\n",
              "      <th>3</th>\n",
              "      <td>2:45</td>\n",
              "      <td>4ALTE</td>\n",
              "      <td>1.891</td>\n",
              "      <td>1.095</td>\n",
              "      <td>0.940</td>\n",
              "      <td>0.024</td>\n",
              "      <td>60.715</td>\n",
              "      <td>0.825</td>\n",
              "      <td>1.035</td>\n",
              "      <td>0.995</td>\n",
              "      <td>2.0</td>\n",
              "      <td>2.0</td>\n",
              "      <td>4</td>\n",
              "      <td>1</td>\n",
              "    </tr>\n",
              "    <tr>\n",
              "      <th>4</th>\n",
              "      <td>3:30</td>\n",
              "      <td>10BLTE</td>\n",
              "      <td>0.303</td>\n",
              "      <td>0.404</td>\n",
              "      <td>0.016</td>\n",
              "      <td>0.013</td>\n",
              "      <td>0.348</td>\n",
              "      <td>0.168</td>\n",
              "      <td>1.011</td>\n",
              "      <td>1.011</td>\n",
              "      <td>2.0</td>\n",
              "      <td>1.0</td>\n",
              "      <td>3</td>\n",
              "      <td>0</td>\n",
              "    </tr>\n",
              "  </tbody>\n",
              "</table>\n",
              "</div>\n",
              "      <button class=\"colab-df-convert\" onclick=\"convertToInteractive('df-5ee59754-a137-42c7-9e16-d5005674c809')\"\n",
              "              title=\"Convert this dataframe to an interactive table.\"\n",
              "              style=\"display:none;\">\n",
              "        \n",
              "  <svg xmlns=\"http://www.w3.org/2000/svg\" height=\"24px\"viewBox=\"0 0 24 24\"\n",
              "       width=\"24px\">\n",
              "    <path d=\"M0 0h24v24H0V0z\" fill=\"none\"/>\n",
              "    <path d=\"M18.56 5.44l.94 2.06.94-2.06 2.06-.94-2.06-.94-.94-2.06-.94 2.06-2.06.94zm-11 1L8.5 8.5l.94-2.06 2.06-.94-2.06-.94L8.5 2.5l-.94 2.06-2.06.94zm10 10l.94 2.06.94-2.06 2.06-.94-2.06-.94-.94-2.06-.94 2.06-2.06.94z\"/><path d=\"M17.41 7.96l-1.37-1.37c-.4-.4-.92-.59-1.43-.59-.52 0-1.04.2-1.43.59L10.3 9.45l-7.72 7.72c-.78.78-.78 2.05 0 2.83L4 21.41c.39.39.9.59 1.41.59.51 0 1.02-.2 1.41-.59l7.78-7.78 2.81-2.81c.8-.78.8-2.07 0-2.86zM5.41 20L4 18.59l7.72-7.72 1.47 1.35L5.41 20z\"/>\n",
              "  </svg>\n",
              "      </button>\n",
              "      \n",
              "  <style>\n",
              "    .colab-df-container {\n",
              "      display:flex;\n",
              "      flex-wrap:wrap;\n",
              "      gap: 12px;\n",
              "    }\n",
              "\n",
              "    .colab-df-convert {\n",
              "      background-color: #E8F0FE;\n",
              "      border: none;\n",
              "      border-radius: 50%;\n",
              "      cursor: pointer;\n",
              "      display: none;\n",
              "      fill: #1967D2;\n",
              "      height: 32px;\n",
              "      padding: 0 0 0 0;\n",
              "      width: 32px;\n",
              "    }\n",
              "\n",
              "    .colab-df-convert:hover {\n",
              "      background-color: #E2EBFA;\n",
              "      box-shadow: 0px 1px 2px rgba(60, 64, 67, 0.3), 0px 1px 3px 1px rgba(60, 64, 67, 0.15);\n",
              "      fill: #174EA6;\n",
              "    }\n",
              "\n",
              "    [theme=dark] .colab-df-convert {\n",
              "      background-color: #3B4455;\n",
              "      fill: #D2E3FC;\n",
              "    }\n",
              "\n",
              "    [theme=dark] .colab-df-convert:hover {\n",
              "      background-color: #434B5C;\n",
              "      box-shadow: 0px 1px 3px 1px rgba(0, 0, 0, 0.15);\n",
              "      filter: drop-shadow(0px 1px 2px rgba(0, 0, 0, 0.3));\n",
              "      fill: #FFFFFF;\n",
              "    }\n",
              "  </style>\n",
              "\n",
              "      <script>\n",
              "        const buttonEl =\n",
              "          document.querySelector('#df-5ee59754-a137-42c7-9e16-d5005674c809 button.colab-df-convert');\n",
              "        buttonEl.style.display =\n",
              "          google.colab.kernel.accessAllowed ? 'block' : 'none';\n",
              "\n",
              "        async function convertToInteractive(key) {\n",
              "          const element = document.querySelector('#df-5ee59754-a137-42c7-9e16-d5005674c809');\n",
              "          const dataTable =\n",
              "            await google.colab.kernel.invokeFunction('convertToInteractive',\n",
              "                                                     [key], {});\n",
              "          if (!dataTable) return;\n",
              "\n",
              "          const docLinkHtml = 'Like what you see? Visit the ' +\n",
              "            '<a target=\"_blank\" href=https://colab.research.google.com/notebooks/data_table.ipynb>data table notebook</a>'\n",
              "            + ' to learn more about interactive tables.';\n",
              "          element.innerHTML = '';\n",
              "          dataTable['output_type'] = 'display_data';\n",
              "          await google.colab.output.renderOutput(dataTable, element);\n",
              "          const docLink = document.createElement('div');\n",
              "          docLink.innerHTML = docLinkHtml;\n",
              "          element.appendChild(docLink);\n",
              "        }\n",
              "      </script>\n",
              "    </div>\n",
              "  </div>\n",
              "  "
            ]
          },
          "metadata": {},
          "execution_count": 3
        }
      ]
    },
    {
      "cell_type": "code",
      "source": [
        "# create a copy of the train data for analysis\n",
        "data = train.copy()"
      ],
      "metadata": {
        "id": "wxk5dGau9SwB"
      },
      "execution_count": 4,
      "outputs": []
    },
    {
      "cell_type": "code",
      "source": [
        "print('The shape of the train data is {}'.format(data.shape))"
      ],
      "metadata": {
        "colab": {
          "base_uri": "https://localhost:8080/"
        },
        "id": "HDwGNU7799Yl",
        "outputId": "6653ae37-29ed-417f-9dbf-add062160910"
      },
      "execution_count": 5,
      "outputs": [
        {
          "output_type": "stream",
          "name": "stdout",
          "text": [
            "The shape of the train data is (36904, 14)\n"
          ]
        }
      ]
    },
    {
      "cell_type": "code",
      "source": [
        "data.info()"
      ],
      "metadata": {
        "colab": {
          "base_uri": "https://localhost:8080/"
        },
        "id": "i18UF1T9-fTs",
        "outputId": "bc55c704-718d-4058-dc78-af225b41e9cd"
      },
      "execution_count": 6,
      "outputs": [
        {
          "output_type": "stream",
          "name": "stdout",
          "text": [
            "<class 'pandas.core.frame.DataFrame'>\n",
            "RangeIndex: 36904 entries, 0 to 36903\n",
            "Data columns (total 14 columns):\n",
            " #   Column       Non-Null Count  Dtype  \n",
            "---  ------       --------------  -----  \n",
            " 0   Time         36904 non-null  object \n",
            " 1   CellName     36904 non-null  object \n",
            " 2   PRBUsageUL   36904 non-null  float64\n",
            " 3   PRBUsageDL   36904 non-null  float64\n",
            " 4   meanThr_DL   36904 non-null  float64\n",
            " 5   meanThr_UL   36904 non-null  float64\n",
            " 6   maxThr_DL    36904 non-null  float64\n",
            " 7   maxThr_UL    36904 non-null  float64\n",
            " 8   meanUE_DL    36904 non-null  float64\n",
            " 9   meanUE_UL    36904 non-null  float64\n",
            " 10  maxUE_DL     36815 non-null  float64\n",
            " 11  maxUE_UL     36815 non-null  float64\n",
            " 12  maxUE_UL+DL  36899 non-null  object \n",
            " 13  Unusual      36904 non-null  int64  \n",
            "dtypes: float64(10), int64(1), object(3)\n",
            "memory usage: 3.9+ MB\n"
          ]
        }
      ]
    },
    {
      "cell_type": "markdown",
      "source": [
        "### Missing values Check\n",
        "\n",
        "create a function that checks for columns with missing values and plot them in a graph"
      ],
      "metadata": {
        "id": "2Xe5E8SX_YIz"
      }
    },
    {
      "cell_type": "code",
      "source": [
        "def check_missing(data):\n",
        "  size = data.shape[0]\n",
        "  missing = data.isnull().sum()[data.isnull().sum() > 0].sort_values()\n",
        "  if not missing.empty :\n",
        "    plot_missing(missing, size)\n",
        "  else:\n",
        "    print('This dataframe has no missing values')\n",
        "\n",
        "def plot_missing(data : pd.Series, size):\n",
        "  plt.style.use('seaborn-darkgrid')\n",
        "  plt.title('Missing Values Plot')\n",
        "  ax = data.plot.barh(color = 'green')\n",
        "\n",
        "  for p in ax.patches:\n",
        "    percentage ='{:,.2f}%'.format((p.get_width()/size)*100)\n",
        "    width, height =p.get_width(),p.get_height()\n",
        "    x=p.get_x()+width+0.02\n",
        "    y=p.get_y()+height/2\n",
        "    ax.annotate(percentage,(x,y))"
      ],
      "metadata": {
        "id": "XgUox9eH_mkX"
      },
      "execution_count": 7,
      "outputs": []
    },
    {
      "cell_type": "code",
      "source": [
        "check_missing(data)"
      ],
      "metadata": {
        "colab": {
          "base_uri": "https://localhost:8080/",
          "height": 277
        },
        "id": "6AmP3W9hBXvk",
        "outputId": "65f5063d-18a3-4954-f7df-8f3600144c0a"
      },
      "execution_count": 8,
      "outputs": [
        {
          "output_type": "display_data",
          "data": {
            "text/plain": [
              "<Figure size 432x288 with 1 Axes>"
            ],
            "image/png": "[encoded data removed]"
          },
          "metadata": {}
        }
      ]
    },
    {
      "cell_type": "code",
      "source": [
        "## see what the data looks like where maxUE_UL is null\n",
        "## This is to gain insights on how to impute this values\n",
        "data[data['maxUE_UL'].isnull()].head()"
      ],
      "metadata": {
        "colab": {
          "base_uri": "https://localhost:8080/",
          "height": 270
        },
        "id": "q6ff6FIjpphH",
        "outputId": "700af232-8d3e-4c82-8228-230a2c7fa0d2"
      },
      "execution_count": 9,
      "outputs": [
        {
          "output_type": "execute_result",
          "data": {
            "text/plain": [
              "       Time CellName  PRBUsageUL  PRBUsageDL  meanThr_DL  meanThr_UL  \\\n",
              "51    16:15    6ALTE      13.743       4.042       2.113       0.100   \n",
              "1290  14:30    3BLTE      22.837       2.324       0.500       0.090   \n",
              "2082   6:15    7ULTE       0.199       1.791       0.693       0.032   \n",
              "2842  16:15    5ALTE       9.903       1.516       0.466       0.032   \n",
              "3384  16:15    7CLTE       0.404       0.909       0.216       0.042   \n",
              "\n",
              "      maxThr_DL  maxThr_UL  meanUE_DL  meanUE_UL  maxUE_DL  maxUE_UL  \\\n",
              "51       44.483      1.110        0.0        0.0       NaN       NaN   \n",
              "1290     24.374      0.847        0.0        0.0       NaN       NaN   \n",
              "2082     15.634      0.353        0.0        0.0       NaN       NaN   \n",
              "2842     24.576      0.931        0.0        0.0       NaN       NaN   \n",
              "3384      9.730      2.714        0.0        0.0       NaN       NaN   \n",
              "\n",
              "     maxUE_UL+DL  Unusual  \n",
              "51      #¡VALOR!        0  \n",
              "1290    #¡VALOR!        0  \n",
              "2082    #¡VALOR!        1  \n",
              "2842    #¡VALOR!        0  \n",
              "3384    #¡VALOR!        0  "
            ],
            "text/html": [
              "\n",
              "  <div id=\"df-ef94e221-5c2d-42b5-b473-01c09cda212e\">\n",
              "    <div class=\"colab-df-container\">\n",
              "      <div>\n",
              "<style scoped>\n",
              "    .dataframe tbody tr th:only-of-type {\n",
              "        vertical-align: middle;\n",
              "    }\n",
              "\n",
              "    .dataframe tbody tr th {\n",
              "        vertical-align: top;\n",
              "    }\n",
              "\n",
              "    .dataframe thead th {\n",
              "        text-align: right;\n",
              "    }\n",
              "</style>\n",
              "<table border=\"1\" class=\"dataframe\">\n",
              "  <thead>\n",
              "    <tr style=\"text-align: right;\">\n",
              "      <th></th>\n",
              "      <th>Time</th>\n",
              "      <th>CellName</th>\n",
              "      <th>PRBUsageUL</th>\n",
              "      <th>PRBUsageDL</th>\n",
              "      <th>meanThr_DL</th>\n",
              "      <th>meanThr_UL</th>\n",
              "      <th>maxThr_DL</th>\n",
              "      <th>maxThr_UL</th>\n",
              "      <th>meanUE_DL</th>\n",
              "      <th>meanUE_UL</th>\n",
              "      <th>maxUE_DL</th>\n",
              "      <th>maxUE_UL</th>\n",
              "      <th>maxUE_UL+DL</th>\n",
              "      <th>Unusual</th>\n",
              "    </tr>\n",
              "  </thead>\n",
              "  <tbody>\n",
              "    <tr>\n",
              "      <th>51</th>\n",
              "      <td>16:15</td>\n",
              "      <td>6ALTE</td>\n",
              "      <td>13.743</td>\n",
              "      <td>4.042</td>\n",
              "      <td>2.113</td>\n",
              "      <td>0.100</td>\n",
              "      <td>44.483</td>\n",
              "      <td>1.110</td>\n",
              "      <td>0.0</td>\n",
              "      <td>0.0</td>\n",
              "      <td>NaN</td>\n",
              "      <td>NaN</td>\n",
              "      <td>#¡VALOR!</td>\n",
              "      <td>0</td>\n",
              "    </tr>\n",
              "    <tr>\n",
              "      <th>1290</th>\n",
              "      <td>14:30</td>\n",
              "      <td>3BLTE</td>\n",
              "      <td>22.837</td>\n",
              "      <td>2.324</td>\n",
              "      <td>0.500</td>\n",
              "      <td>0.090</td>\n",
              "      <td>24.374</td>\n",
              "      <td>0.847</td>\n",
              "      <td>0.0</td>\n",
              "      <td>0.0</td>\n",
              "      <td>NaN</td>\n",
              "      <td>NaN</td>\n",
              "      <td>#¡VALOR!</td>\n",
              "      <td>0</td>\n",
              "    </tr>\n",
              "    <tr>\n",
              "      <th>2082</th>\n",
              "      <td>6:15</td>\n",
              "      <td>7ULTE</td>\n",
              "      <td>0.199</td>\n",
              "      <td>1.791</td>\n",
              "      <td>0.693</td>\n",
              "      <td>0.032</td>\n",
              "      <td>15.634</td>\n",
              "      <td>0.353</td>\n",
              "      <td>0.0</td>\n",
              "      <td>0.0</td>\n",
              "      <td>NaN</td>\n",
              "      <td>NaN</td>\n",
              "      <td>#¡VALOR!</td>\n",
              "      <td>1</td>\n",
              "    </tr>\n",
              "    <tr>\n",
              "      <th>2842</th>\n",
              "      <td>16:15</td>\n",
              "      <td>5ALTE</td>\n",
              "      <td>9.903</td>\n",
              "      <td>1.516</td>\n",
              "      <td>0.466</td>\n",
              "      <td>0.032</td>\n",
              "      <td>24.576</td>\n",
              "      <td>0.931</td>\n",
              "      <td>0.0</td>\n",
              "      <td>0.0</td>\n",
              "      <td>NaN</td>\n",
              "      <td>NaN</td>\n",
              "      <td>#¡VALOR!</td>\n",
              "      <td>0</td>\n",
              "    </tr>\n",
              "    <tr>\n",
              "      <th>3384</th>\n",
              "      <td>16:15</td>\n",
              "      <td>7CLTE</td>\n",
              "      <td>0.404</td>\n",
              "      <td>0.909</td>\n",
              "      <td>0.216</td>\n",
              "      <td>0.042</td>\n",
              "      <td>9.730</td>\n",
              "      <td>2.714</td>\n",
              "      <td>0.0</td>\n",
              "      <td>0.0</td>\n",
              "      <td>NaN</td>\n",
              "      <td>NaN</td>\n",
              "      <td>#¡VALOR!</td>\n",
              "      <td>0</td>\n",
              "    </tr>\n",
              "  </tbody>\n",
              "</table>\n",
              "</div>\n",
              "      <button class=\"colab-df-convert\" onclick=\"convertToInteractive('df-ef94e221-5c2d-42b5-b473-01c09cda212e')\"\n",
              "              title=\"Convert this dataframe to an interactive table.\"\n",
              "              style=\"display:none;\">\n",
              "        \n",
              "  <svg xmlns=\"http://www.w3.org/2000/svg\" height=\"24px\"viewBox=\"0 0 24 24\"\n",
              "       width=\"24px\">\n",
              "    <path d=\"M0 0h24v24H0V0z\" fill=\"none\"/>\n",
              "    <path d=\"M18.56 5.44l.94 2.06.94-2.06 2.06-.94-2.06-.94-.94-2.06-.94 2.06-2.06.94zm-11 1L8.5 8.5l.94-2.06 2.06-.94-2.06-.94L8.5 2.5l-.94 2.06-2.06.94zm10 10l.94 2.06.94-2.06 2.06-.94-2.06-.94-.94-2.06-.94 2.06-2.06.94z\"/><path d=\"M17.41 7.96l-1.37-1.37c-.4-.4-.92-.59-1.43-.59-.52 0-1.04.2-1.43.59L10.3 9.45l-7.72 7.72c-.78.78-.78 2.05 0 2.83L4 21.41c.39.39.9.59 1.41.59.51 0 1.02-.2 1.41-.59l7.78-7.78 2.81-2.81c.8-.78.8-2.07 0-2.86zM5.41 20L4 18.59l7.72-7.72 1.47 1.35L5.41 20z\"/>\n",
              "  </svg>\n",
              "      </button>\n",
              "      \n",
              "  <style>\n",
              "    .colab-df-container {\n",
              "      display:flex;\n",
              "      flex-wrap:wrap;\n",
              "      gap: 12px;\n",
              "    }\n",
              "\n",
              "    .colab-df-convert {\n",
              "      background-color: #E8F0FE;\n",
              "      border: none;\n",
              "      border-radius: 50%;\n",
              "      cursor: pointer;\n",
              "      display: none;\n",
              "      fill: #1967D2;\n",
              "      height: 32px;\n",
              "      padding: 0 0 0 0;\n",
              "      width: 32px;\n",
              "    }\n",
              "\n",
              "    .colab-df-convert:hover {\n",
              "      background-color: #E2EBFA;\n",
              "      box-shadow: 0px 1px 2px rgba(60, 64, 67, 0.3), 0px 1px 3px 1px rgba(60, 64, 67, 0.15);\n",
              "      fill: #174EA6;\n",
              "    }\n",
              "\n",
              "    [theme=dark] .colab-df-convert {\n",
              "      background-color: #3B4455;\n",
              "      fill: #D2E3FC;\n",
              "    }\n",
              "\n",
              "    [theme=dark] .colab-df-convert:hover {\n",
              "      background-color: #434B5C;\n",
              "      box-shadow: 0px 1px 3px 1px rgba(0, 0, 0, 0.15);\n",
              "      filter: drop-shadow(0px 1px 2px rgba(0, 0, 0, 0.3));\n",
              "      fill: #FFFFFF;\n",
              "    }\n",
              "  </style>\n",
              "\n",
              "      <script>\n",
              "        const buttonEl =\n",
              "          document.querySelector('#df-ef94e221-5c2d-42b5-b473-01c09cda212e button.colab-df-convert');\n",
              "        buttonEl.style.display =\n",
              "          google.colab.kernel.accessAllowed ? 'block' : 'none';\n",
              "\n",
              "        async function convertToInteractive(key) {\n",
              "          const element = document.querySelector('#df-ef94e221-5c2d-42b5-b473-01c09cda212e');\n",
              "          const dataTable =\n",
              "            await google.colab.kernel.invokeFunction('convertToInteractive',\n",
              "                                                     [key], {});\n",
              "          if (!dataTable) return;\n",
              "\n",
              "          const docLinkHtml = 'Like what you see? Visit the ' +\n",
              "            '<a target=\"_blank\" href=https://colab.research.google.com/notebooks/data_table.ipynb>data table notebook</a>'\n",
              "            + ' to learn more about interactive tables.';\n",
              "          element.innerHTML = '';\n",
              "          dataTable['output_type'] = 'display_data';\n",
              "          await google.colab.output.renderOutput(dataTable, element);\n",
              "          const docLink = document.createElement('div');\n",
              "          docLink.innerHTML = docLinkHtml;\n",
              "          element.appendChild(docLink);\n",
              "        }\n",
              "      </script>\n",
              "    </div>\n",
              "  </div>\n",
              "  "
            ]
          },
          "metadata": {},
          "execution_count": 9
        }
      ]
    },
    {
      "cell_type": "code",
      "source": [
        "data[data['maxUE_UL+DL'] == '0'].head()"
      ],
      "metadata": {
        "colab": {
          "base_uri": "https://localhost:8080/",
          "height": 270
        },
        "id": "U2Ey20cFqDxL",
        "outputId": "cf874a37-0082-46ea-c8d7-ebb8347483e2"
      },
      "execution_count": 10,
      "outputs": [
        {
          "output_type": "execute_result",
          "data": {
            "text/plain": [
              "      Time CellName  PRBUsageUL  PRBUsageDL  meanThr_DL  meanThr_UL  \\\n",
              "74    4:45    2ALTE         0.0       0.404         0.0         0.0   \n",
              "479   4:45    2ALTE         0.0       0.404         0.0         0.0   \n",
              "937   5:00    2ALTE         0.0       0.404         0.0         0.0   \n",
              "1361  3:00    2ALTE         0.0       0.404         0.0         0.0   \n",
              "1906  6:30    2ALTE         0.0       0.404         0.0         0.0   \n",
              "\n",
              "      maxThr_DL  maxThr_UL  meanUE_DL  meanUE_UL  maxUE_DL  maxUE_UL  \\\n",
              "74          0.0        0.0        0.0        0.0       0.0       0.0   \n",
              "479         0.0        0.0        0.0        0.0       0.0       0.0   \n",
              "937         0.0        0.0        0.0        0.0       0.0       0.0   \n",
              "1361        0.0        0.0        0.0        0.0       0.0       0.0   \n",
              "1906        0.0        0.0        0.0        0.0       0.0       0.0   \n",
              "\n",
              "     maxUE_UL+DL  Unusual  \n",
              "74             0        0  \n",
              "479            0        0  \n",
              "937            0        0  \n",
              "1361           0        0  \n",
              "1906           0        0  "
            ],
            "text/html": [
              "\n",
              "  <div id=\"df-0e06642d-f576-4538-b423-360d8f0975e7\">\n",
              "    <div class=\"colab-df-container\">\n",
              "      <div>\n",
              "<style scoped>\n",
              "    .dataframe tbody tr th:only-of-type {\n",
              "        vertical-align: middle;\n",
              "    }\n",
              "\n",
              "    .dataframe tbody tr th {\n",
              "        vertical-align: top;\n",
              "    }\n",
              "\n",
              "    .dataframe thead th {\n",
              "        text-align: right;\n",
              "    }\n",
              "</style>\n",
              "<table border=\"1\" class=\"dataframe\">\n",
              "  <thead>\n",
              "    <tr style=\"text-align: right;\">\n",
              "      <th></th>\n",
              "      <th>Time</th>\n",
              "      <th>CellName</th>\n",
              "      <th>PRBUsageUL</th>\n",
              "      <th>PRBUsageDL</th>\n",
              "      <th>meanThr_DL</th>\n",
              "      <th>meanThr_UL</th>\n",
              "      <th>maxThr_DL</th>\n",
              "      <th>maxThr_UL</th>\n",
              "      <th>meanUE_DL</th>\n",
              "      <th>meanUE_UL</th>\n",
              "      <th>maxUE_DL</th>\n",
              "      <th>maxUE_UL</th>\n",
              "      <th>maxUE_UL+DL</th>\n",
              "      <th>Unusual</th>\n",
              "    </tr>\n",
              "  </thead>\n",
              "  <tbody>\n",
              "    <tr>\n",
              "      <th>74</th>\n",
              "      <td>4:45</td>\n",
              "      <td>2ALTE</td>\n",
              "      <td>0.0</td>\n",
              "      <td>0.404</td>\n",
              "      <td>0.0</td>\n",
              "      <td>0.0</td>\n",
              "      <td>0.0</td>\n",
              "      <td>0.0</td>\n",
              "      <td>0.0</td>\n",
              "      <td>0.0</td>\n",
              "      <td>0.0</td>\n",
              "      <td>0.0</td>\n",
              "      <td>0</td>\n",
              "      <td>0</td>\n",
              "    </tr>\n",
              "    <tr>\n",
              "      <th>479</th>\n",
              "      <td>4:45</td>\n",
              "      <td>2ALTE</td>\n",
              "      <td>0.0</td>\n",
              "      <td>0.404</td>\n",
              "      <td>0.0</td>\n",
              "      <td>0.0</td>\n",
              "      <td>0.0</td>\n",
              "      <td>0.0</td>\n",
              "      <td>0.0</td>\n",
              "      <td>0.0</td>\n",
              "      <td>0.0</td>\n",
              "      <td>0.0</td>\n",
              "      <td>0</td>\n",
              "      <td>0</td>\n",
              "    </tr>\n",
              "    <tr>\n",
              "      <th>937</th>\n",
              "      <td>5:00</td>\n",
              "      <td>2ALTE</td>\n",
              "      <td>0.0</td>\n",
              "      <td>0.404</td>\n",
              "      <td>0.0</td>\n",
              "      <td>0.0</td>\n",
              "      <td>0.0</td>\n",
              "      <td>0.0</td>\n",
              "      <td>0.0</td>\n",
              "      <td>0.0</td>\n",
              "      <td>0.0</td>\n",
              "      <td>0.0</td>\n",
              "      <td>0</td>\n",
              "      <td>0</td>\n",
              "    </tr>\n",
              "    <tr>\n",
              "      <th>1361</th>\n",
              "      <td>3:00</td>\n",
              "      <td>2ALTE</td>\n",
              "      <td>0.0</td>\n",
              "      <td>0.404</td>\n",
              "      <td>0.0</td>\n",
              "      <td>0.0</td>\n",
              "      <td>0.0</td>\n",
              "      <td>0.0</td>\n",
              "      <td>0.0</td>\n",
              "      <td>0.0</td>\n",
              "      <td>0.0</td>\n",
              "      <td>0.0</td>\n",
              "      <td>0</td>\n",
              "      <td>0</td>\n",
              "    </tr>\n",
              "    <tr>\n",
              "      <th>1906</th>\n",
              "      <td>6:30</td>\n",
              "      <td>2ALTE</td>\n",
              "      <td>0.0</td>\n",
              "      <td>0.404</td>\n",
              "      <td>0.0</td>\n",
              "      <td>0.0</td>\n",
              "      <td>0.0</td>\n",
              "      <td>0.0</td>\n",
              "      <td>0.0</td>\n",
              "      <td>0.0</td>\n",
              "      <td>0.0</td>\n",
              "      <td>0.0</td>\n",
              "      <td>0</td>\n",
              "      <td>0</td>\n",
              "    </tr>\n",
              "  </tbody>\n",
              "</table>\n",
              "</div>\n",
              "      <button class=\"colab-df-convert\" onclick=\"convertToInteractive('df-0e06642d-f576-4538-b423-360d8f0975e7')\"\n",
              "              title=\"Convert this dataframe to an interactive table.\"\n",
              "              style=\"display:none;\">\n",
              "        \n",
              "  <svg xmlns=\"http://www.w3.org/2000/svg\" height=\"24px\"viewBox=\"0 0 24 24\"\n",
              "       width=\"24px\">\n",
              "    <path d=\"M0 0h24v24H0V0z\" fill=\"none\"/>\n",
              "    <path d=\"M18.56 5.44l.94 2.06.94-2.06 2.06-.94-2.06-.94-.94-2.06-.94 2.06-2.06.94zm-11 1L8.5 8.5l.94-2.06 2.06-.94-2.06-.94L8.5 2.5l-.94 2.06-2.06.94zm10 10l.94 2.06.94-2.06 2.06-.94-2.06-.94-.94-2.06-.94 2.06-2.06.94z\"/><path d=\"M17.41 7.96l-1.37-1.37c-.4-.4-.92-.59-1.43-.59-.52 0-1.04.2-1.43.59L10.3 9.45l-7.72 7.72c-.78.78-.78 2.05 0 2.83L4 21.41c.39.39.9.59 1.41.59.51 0 1.02-.2 1.41-.59l7.78-7.78 2.81-2.81c.8-.78.8-2.07 0-2.86zM5.41 20L4 18.59l7.72-7.72 1.47 1.35L5.41 20z\"/>\n",
              "  </svg>\n",
              "      </button>\n",
              "      \n",
              "  <style>\n",
              "    .colab-df-container {\n",
              "      display:flex;\n",
              "      flex-wrap:wrap;\n",
              "      gap: 12px;\n",
              "    }\n",
              "\n",
              "    .colab-df-convert {\n",
              "      background-color: #E8F0FE;\n",
              "      border: none;\n",
              "      border-radius: 50%;\n",
              "      cursor: pointer;\n",
              "      display: none;\n",
              "      fill: #1967D2;\n",
              "      height: 32px;\n",
              "      padding: 0 0 0 0;\n",
              "      width: 32px;\n",
              "    }\n",
              "\n",
              "    .colab-df-convert:hover {\n",
              "      background-color: #E2EBFA;\n",
              "      box-shadow: 0px 1px 2px rgba(60, 64, 67, 0.3), 0px 1px 3px 1px rgba(60, 64, 67, 0.15);\n",
              "      fill: #174EA6;\n",
              "    }\n",
              "\n",
              "    [theme=dark] .colab-df-convert {\n",
              "      background-color: #3B4455;\n",
              "      fill: #D2E3FC;\n",
              "    }\n",
              "\n",
              "    [theme=dark] .colab-df-convert:hover {\n",
              "      background-color: #434B5C;\n",
              "      box-shadow: 0px 1px 3px 1px rgba(0, 0, 0, 0.15);\n",
              "      filter: drop-shadow(0px 1px 2px rgba(0, 0, 0, 0.3));\n",
              "      fill: #FFFFFF;\n",
              "    }\n",
              "  </style>\n",
              "\n",
              "      <script>\n",
              "        const buttonEl =\n",
              "          document.querySelector('#df-0e06642d-f576-4538-b423-360d8f0975e7 button.colab-df-convert');\n",
              "        buttonEl.style.display =\n",
              "          google.colab.kernel.accessAllowed ? 'block' : 'none';\n",
              "\n",
              "        async function convertToInteractive(key) {\n",
              "          const element = document.querySelector('#df-0e06642d-f576-4538-b423-360d8f0975e7');\n",
              "          const dataTable =\n",
              "            await google.colab.kernel.invokeFunction('convertToInteractive',\n",
              "                                                     [key], {});\n",
              "          if (!dataTable) return;\n",
              "\n",
              "          const docLinkHtml = 'Like what you see? Visit the ' +\n",
              "            '<a target=\"_blank\" href=https://colab.research.google.com/notebooks/data_table.ipynb>data table notebook</a>'\n",
              "            + ' to learn more about interactive tables.';\n",
              "          element.innerHTML = '';\n",
              "          dataTable['output_type'] = 'display_data';\n",
              "          await google.colab.output.renderOutput(dataTable, element);\n",
              "          const docLink = document.createElement('div');\n",
              "          docLink.innerHTML = docLinkHtml;\n",
              "          element.appendChild(docLink);\n",
              "        }\n",
              "      </script>\n",
              "    </div>\n",
              "  </div>\n",
              "  "
            ]
          },
          "metadata": {},
          "execution_count": 10
        }
      ]
    },
    {
      "cell_type": "code",
      "source": [
        "data.describe()"
      ],
      "metadata": {
        "colab": {
          "base_uri": "https://localhost:8080/",
          "height": 364
        },
        "id": "9oy6gPWr-P9c",
        "outputId": "aa847719-c95c-4245-f35f-5f90f6732e6c"
      },
      "execution_count": 11,
      "outputs": [
        {
          "output_type": "execute_result",
          "data": {
            "text/plain": [
              "         PRBUsageUL    PRBUsageDL    meanThr_DL    meanThr_UL     maxThr_DL  \\\n",
              "count  36904.000000  36904.000000  36904.000000  36904.000000  36904.000000   \n",
              "mean       7.835090      2.106396      0.560525      0.067610     17.764369   \n",
              "std        8.428206      2.247514      0.727623      0.186555     15.739932   \n",
              "min        0.000000      0.000000      0.000000      0.000000      0.000000   \n",
              "25%        1.213000      0.707000      0.140000      0.021000      5.710750   \n",
              "50%        4.547000      1.314000      0.352000      0.040000     14.170000   \n",
              "75%       12.126000      2.728000      0.718000      0.075000     25.059500   \n",
              "max       51.333000     77.505000     19.601000     12.461000    140.008000   \n",
              "\n",
              "          maxThr_UL     meanUE_DL     meanUE_UL      maxUE_DL      maxUE_UL  \\\n",
              "count  36904.000000  36904.000000  36904.000000  36815.000000  36815.000000   \n",
              "mean       1.791974      1.173441      0.665143      4.190819      3.063371   \n",
              "std        5.028928      0.214065      0.535493      1.772484      1.387446   \n",
              "min        0.000000      0.000000      0.000000      0.000000      0.000000   \n",
              "25%        0.362000      1.041000      0.010000      3.000000      2.000000   \n",
              "50%        0.703000      1.112000      1.011000      4.000000      3.000000   \n",
              "75%        1.242000      1.263000      1.051000      5.000000      4.000000   \n",
              "max       48.253000      2.915000      2.668000     12.000000     12.000000   \n",
              "\n",
              "            Unusual  \n",
              "count  36904.000000  \n",
              "mean       0.275932  \n",
              "std        0.446989  \n",
              "min        0.000000  \n",
              "25%        0.000000  \n",
              "50%        0.000000  \n",
              "75%        1.000000  \n",
              "max        1.000000  "
            ],
            "text/html": [
              "\n",
              "  <div id=\"df-a210c91d-d47b-4ccb-9aef-659acb801809\">\n",
              "    <div class=\"colab-df-container\">\n",
              "      <div>\n",
              "<style scoped>\n",
              "    .dataframe tbody tr th:only-of-type {\n",
              "        vertical-align: middle;\n",
              "    }\n",
              "\n",
              "    .dataframe tbody tr th {\n",
              "        vertical-align: top;\n",
              "    }\n",
              "\n",
              "    .dataframe thead th {\n",
              "        text-align: right;\n",
              "    }\n",
              "</style>\n",
              "<table border=\"1\" class=\"dataframe\">\n",
              "  <thead>\n",
              "    <tr style=\"text-align: right;\">\n",
              "      <th></th>\n",
              "      <th>PRBUsageUL</th>\n",
              "      <th>PRBUsageDL</th>\n",
              "      <th>meanThr_DL</th>\n",
              "      <th>meanThr_UL</th>\n",
              "      <th>maxThr_DL</th>\n",
              "      <th>maxThr_UL</th>\n",
              "      <th>meanUE_DL</th>\n",
              "      <th>meanUE_UL</th>\n",
              "      <th>maxUE_DL</th>\n",
              "      <th>maxUE_UL</th>\n",
              "      <th>Unusual</th>\n",
              "    </tr>\n",
              "  </thead>\n",
              "  <tbody>\n",
              "    <tr>\n",
              "      <th>count</th>\n",
              "      <td>36904.000000</td>\n",
              "      <td>36904.000000</td>\n",
              "      <td>36904.000000</td>\n",
              "      <td>36904.000000</td>\n",
              "      <td>36904.000000</td>\n",
              "      <td>36904.000000</td>\n",
              "      <td>36904.000000</td>\n",
              "      <td>36904.000000</td>\n",
              "      <td>36815.000000</td>\n",
              "      <td>36815.000000</td>\n",
              "      <td>36904.000000</td>\n",
              "    </tr>\n",
              "    <tr>\n",
              "      <th>mean</th>\n",
              "      <td>7.835090</td>\n",
              "      <td>2.106396</td>\n",
              "      <td>0.560525</td>\n",
              "      <td>0.067610</td>\n",
              "      <td>17.764369</td>\n",
              "      <td>1.791974</td>\n",
              "      <td>1.173441</td>\n",
              "      <td>0.665143</td>\n",
              "      <td>4.190819</td>\n",
              "      <td>3.063371</td>\n",
              "      <td>0.275932</td>\n",
              "    </tr>\n",
              "    <tr>\n",
              "      <th>std</th>\n",
              "      <td>8.428206</td>\n",
              "      <td>2.247514</td>\n",
              "      <td>0.727623</td>\n",
              "      <td>0.186555</td>\n",
              "      <td>15.739932</td>\n",
              "      <td>5.028928</td>\n",
              "      <td>0.214065</td>\n",
              "      <td>0.535493</td>\n",
              "      <td>1.772484</td>\n",
              "      <td>1.387446</td>\n",
              "      <td>0.446989</td>\n",
              "    </tr>\n",
              "    <tr>\n",
              "      <th>min</th>\n",
              "      <td>0.000000</td>\n",
              "      <td>0.000000</td>\n",
              "      <td>0.000000</td>\n",
              "      <td>0.000000</td>\n",
              "      <td>0.000000</td>\n",
              "      <td>0.000000</td>\n",
              "      <td>0.000000</td>\n",
              "      <td>0.000000</td>\n",
              "      <td>0.000000</td>\n",
              "      <td>0.000000</td>\n",
              "      <td>0.000000</td>\n",
              "    </tr>\n",
              "    <tr>\n",
              "      <th>25%</th>\n",
              "      <td>1.213000</td>\n",
              "      <td>0.707000</td>\n",
              "      <td>0.140000</td>\n",
              "      <td>0.021000</td>\n",
              "      <td>5.710750</td>\n",
              "      <td>0.362000</td>\n",
              "      <td>1.041000</td>\n",
              "      <td>0.010000</td>\n",
              "      <td>3.000000</td>\n",
              "      <td>2.000000</td>\n",
              "      <td>0.000000</td>\n",
              "    </tr>\n",
              "    <tr>\n",
              "      <th>50%</th>\n",
              "      <td>4.547000</td>\n",
              "      <td>1.314000</td>\n",
              "      <td>0.352000</td>\n",
              "      <td>0.040000</td>\n",
              "      <td>14.170000</td>\n",
              "      <td>0.703000</td>\n",
              "      <td>1.112000</td>\n",
              "      <td>1.011000</td>\n",
              "      <td>4.000000</td>\n",
              "      <td>3.000000</td>\n",
              "      <td>0.000000</td>\n",
              "    </tr>\n",
              "    <tr>\n",
              "      <th>75%</th>\n",
              "      <td>12.126000</td>\n",
              "      <td>2.728000</td>\n",
              "      <td>0.718000</td>\n",
              "      <td>0.075000</td>\n",
              "      <td>25.059500</td>\n",
              "      <td>1.242000</td>\n",
              "      <td>1.263000</td>\n",
              "      <td>1.051000</td>\n",
              "      <td>5.000000</td>\n",
              "      <td>4.000000</td>\n",
              "      <td>1.000000</td>\n",
              "    </tr>\n",
              "    <tr>\n",
              "      <th>max</th>\n",
              "      <td>51.333000</td>\n",
              "      <td>77.505000</td>\n",
              "      <td>19.601000</td>\n",
              "      <td>12.461000</td>\n",
              "      <td>140.008000</td>\n",
              "      <td>48.253000</td>\n",
              "      <td>2.915000</td>\n",
              "      <td>2.668000</td>\n",
              "      <td>12.000000</td>\n",
              "      <td>12.000000</td>\n",
              "      <td>1.000000</td>\n",
              "    </tr>\n",
              "  </tbody>\n",
              "</table>\n",
              "</div>\n",
              "      <button class=\"colab-df-convert\" onclick=\"convertToInteractive('df-a210c91d-d47b-4ccb-9aef-659acb801809')\"\n",
              "              title=\"Convert this dataframe to an interactive table.\"\n",
              "              style=\"display:none;\">\n",
              "        \n",
              "  <svg xmlns=\"http://www.w3.org/2000/svg\" height=\"24px\"viewBox=\"0 0 24 24\"\n",
              "       width=\"24px\">\n",
              "    <path d=\"M0 0h24v24H0V0z\" fill=\"none\"/>\n",
              "    <path d=\"M18.56 5.44l.94 2.06.94-2.06 2.06-.94-2.06-.94-.94-2.06-.94 2.06-2.06.94zm-11 1L8.5 8.5l.94-2.06 2.06-.94-2.06-.94L8.5 2.5l-.94 2.06-2.06.94zm10 10l.94 2.06.94-2.06 2.06-.94-2.06-.94-.94-2.06-.94 2.06-2.06.94z\"/><path d=\"M17.41 7.96l-1.37-1.37c-.4-.4-.92-.59-1.43-.59-.52 0-1.04.2-1.43.59L10.3 9.45l-7.72 7.72c-.78.78-.78 2.05 0 2.83L4 21.41c.39.39.9.59 1.41.59.51 0 1.02-.2 1.41-.59l7.78-7.78 2.81-2.81c.8-.78.8-2.07 0-2.86zM5.41 20L4 18.59l7.72-7.72 1.47 1.35L5.41 20z\"/>\n",
              "  </svg>\n",
              "      </button>\n",
              "      \n",
              "  <style>\n",
              "    .colab-df-container {\n",
              "      display:flex;\n",
              "      flex-wrap:wrap;\n",
              "      gap: 12px;\n",
              "    }\n",
              "\n",
              "    .colab-df-convert {\n",
              "      background-color: #E8F0FE;\n",
              "      border: none;\n",
              "      border-radius: 50%;\n",
              "      cursor: pointer;\n",
              "      display: none;\n",
              "      fill: #1967D2;\n",
              "      height: 32px;\n",
              "      padding: 0 0 0 0;\n",
              "      width: 32px;\n",
              "    }\n",
              "\n",
              "    .colab-df-convert:hover {\n",
              "      background-color: #E2EBFA;\n",
              "      box-shadow: 0px 1px 2px rgba(60, 64, 67, 0.3), 0px 1px 3px 1px rgba(60, 64, 67, 0.15);\n",
              "      fill: #174EA6;\n",
              "    }\n",
              "\n",
              "    [theme=dark] .colab-df-convert {\n",
              "      background-color: #3B4455;\n",
              "      fill: #D2E3FC;\n",
              "    }\n",
              "\n",
              "    [theme=dark] .colab-df-convert:hover {\n",
              "      background-color: #434B5C;\n",
              "      box-shadow: 0px 1px 3px 1px rgba(0, 0, 0, 0.15);\n",
              "      filter: drop-shadow(0px 1px 2px rgba(0, 0, 0, 0.3));\n",
              "      fill: #FFFFFF;\n",
              "    }\n",
              "  </style>\n",
              "\n",
              "      <script>\n",
              "        const buttonEl =\n",
              "          document.querySelector('#df-a210c91d-d47b-4ccb-9aef-659acb801809 button.colab-df-convert');\n",
              "        buttonEl.style.display =\n",
              "          google.colab.kernel.accessAllowed ? 'block' : 'none';\n",
              "\n",
              "        async function convertToInteractive(key) {\n",
              "          const element = document.querySelector('#df-a210c91d-d47b-4ccb-9aef-659acb801809');\n",
              "          const dataTable =\n",
              "            await google.colab.kernel.invokeFunction('convertToInteractive',\n",
              "                                                     [key], {});\n",
              "          if (!dataTable) return;\n",
              "\n",
              "          const docLinkHtml = 'Like what you see? Visit the ' +\n",
              "            '<a target=\"_blank\" href=https://colab.research.google.com/notebooks/data_table.ipynb>data table notebook</a>'\n",
              "            + ' to learn more about interactive tables.';\n",
              "          element.innerHTML = '';\n",
              "          dataTable['output_type'] = 'display_data';\n",
              "          await google.colab.output.renderOutput(dataTable, element);\n",
              "          const docLink = document.createElement('div');\n",
              "          docLink.innerHTML = docLinkHtml;\n",
              "          element.appendChild(docLink);\n",
              "        }\n",
              "      </script>\n",
              "    </div>\n",
              "  </div>\n",
              "  "
            ]
          },
          "metadata": {},
          "execution_count": 11
        }
      ]
    },
    {
      "cell_type": "markdown",
      "source": [
        "##### Unusual\n",
        "\n",
        "Analysis the label column"
      ],
      "metadata": {
        "id": "Mb9g7DGIDAH4"
      }
    },
    {
      "cell_type": "code",
      "source": [
        "ax = data['Unusual'].value_counts().plot.bar(color = 'blue')\n",
        "size = data.shape[0]\n",
        "for p in ax.patches:\n",
        "  height, width, x= p.get_height(), p.get_width(), p.get_x()\n",
        "  percent = height/size * 100\n",
        "  label = '{:,.2f}%'.format(percent)\n",
        "  ax.annotate(label, (x + width*0.3, height))\n",
        "\n",
        "plt.title('Label Distribution In Train Data')\n",
        "plt.show()"
      ],
      "metadata": {
        "colab": {
          "base_uri": "https://localhost:8080/",
          "height": 272
        },
        "id": "q4-yuX1eAXqT",
        "outputId": "b1df48f2-8fc0-40b0-bf5a-8543716e9baf"
      },
      "execution_count": 12,
      "outputs": [
        {
          "output_type": "display_data",
          "data": {
            "text/plain": [
              "<Figure size 432x288 with 1 Axes>"
            ],
            "image/png": "[encoded data removed]"
          },
          "metadata": {}
        }
      ]
    },
    {
      "cell_type": "markdown",
      "source": [
        "**Observation**: The dataset is imbalance with 72.41% percent belonging to the negative class\n"
      ],
      "metadata": {
        "id": "TId8ETdfFfhj"
      }
    },
    {
      "cell_type": "markdown",
      "source": [
        "#### CellName Column\n"
      ],
      "metadata": {
        "id": "xYaaUPx_GIp0"
      }
    },
    {
      "cell_type": "code",
      "source": [
        "data['CellName'].value_counts()"
      ],
      "metadata": {
        "colab": {
          "base_uri": "https://localhost:8080/"
        },
        "id": "Z5XicaGHDPiV",
        "outputId": "96b5cc53-e91f-4e8b-d694-80625c1536aa"
      },
      "execution_count": 13,
      "outputs": [
        {
          "output_type": "execute_result",
          "data": {
            "text/plain": [
              "5ALTE     1157\n",
              "4CLTE     1150\n",
              "4ALTE     1147\n",
              "8ALTE     1142\n",
              "8CLTE     1137\n",
              "6VLTE     1134\n",
              "6ALTE     1134\n",
              "4BLTE     1134\n",
              "6WLTE     1133\n",
              "5CLTE     1131\n",
              "3CLTE     1131\n",
              "6ULTE     1129\n",
              "7BLTE     1128\n",
              "1ALTE     1122\n",
              "10ALTE    1121\n",
              "7ULTE     1120\n",
              "1CLTE     1120\n",
              "8BLTE     1118\n",
              "10CLTE    1117\n",
              "3BLTE     1117\n",
              "1BLTE     1117\n",
              "7WLTE     1116\n",
              "2ALTE     1116\n",
              "9BLTE     1116\n",
              "6BLTE     1112\n",
              "3ALTE     1107\n",
              "10BLTE    1107\n",
              "5BLTE     1104\n",
              "6CLTE     1102\n",
              "9ALTE     1099\n",
              "7CLTE     1096\n",
              "7ALTE     1083\n",
              "7VLTE     1007\n",
              "Name: CellName, dtype: int64"
            ]
          },
          "metadata": {},
          "execution_count": 13
        }
      ]
    },
    {
      "cell_type": "markdown",
      "source": [
        "**observation**: most of the observations where from 5ALTE cell though the observations is almost equally distributed across all cells.  "
      ],
      "metadata": {
        "id": "YFUHADM8G7oL"
      }
    },
    {
      "cell_type": "code",
      "source": [
        "## extract the base name from the cell name and analyse the distribuion\n",
        "\n",
        "data['BaseName'] = data['CellName'].map(lambda x : x[-4])\n",
        "ax = data['BaseName'].value_counts().plot.bar(color = 'red')\n",
        "size = data.shape[0]\n",
        "for p in ax.patches:\n",
        "  height, width, x= p.get_height(), p.get_width(), p.get_x()\n",
        "  percent = height/size * 100\n",
        "  label = '{:,.2f}%'.format(percent)\n",
        "  ax.annotate(label, (x + width*0.3, height))\n",
        "\n",
        "plt.title('Base Station Distribution In Train Data')\n",
        "plt.show()"
      ],
      "metadata": {
        "colab": {
          "base_uri": "https://localhost:8080/",
          "height": 0
        },
        "id": "60jL6q-vGasX",
        "outputId": "daf9c1c6-d306-49bf-ac2d-484a3eba3c4e"
      },
      "execution_count": 14,
      "outputs": [
        {
          "output_type": "display_data",
          "data": {
            "text/plain": [
              "<Figure size 432x288 with 1 Axes>"
            ],
            "image/png": "[encoded data removed]"
          },
          "metadata": {}
        }
      ]
    },
    {
      "cell_type": "markdown",
      "source": [
        "**observation** : The observations where mainly concentrated in base stations A, B, C  with just few percentages coming from U, W, V"
      ],
      "metadata": {
        "id": "8XRy5WIdJKUK"
      }
    },
    {
      "cell_type": "markdown",
      "source": [
        "#### maxUE_UL+DL\n",
        "\n",
        "form the description provided, this should a numerical column but its provided as object type. Lets verify what is wrong "
      ],
      "metadata": {
        "id": "fuUvm2ZpJ0kx"
      }
    },
    {
      "cell_type": "code",
      "source": [
        "data['maxUE_UL+DL'].value_counts()"
      ],
      "metadata": {
        "colab": {
          "base_uri": "https://localhost:8080/"
        },
        "id": "khS8u6jYIieD",
        "outputId": "57e753c4-1ece-497d-d7b6-10f122424a0c"
      },
      "execution_count": 15,
      "outputs": [
        {
          "output_type": "execute_result",
          "data": {
            "text/plain": [
              "5           5939\n",
              "7           5322\n",
              "8           3889\n",
              "6           3883\n",
              "9           3439\n",
              "4           3391\n",
              "10          2539\n",
              "11          1899\n",
              "3           1636\n",
              "12          1388\n",
              "2           1118\n",
              "13           909\n",
              "14           597\n",
              "15           326\n",
              "16           178\n",
              "0            158\n",
              "#¡VALOR!      84\n",
              "17            82\n",
              "18            41\n",
              "19            31\n",
              "1             28\n",
              "20            18\n",
              "23             2\n",
              "21             2\n",
              "Name: maxUE_UL+DL, dtype: int64"
            ]
          },
          "metadata": {},
          "execution_count": 15
        }
      ]
    },
    {
      "cell_type": "markdown",
      "source": [
        "**observtion** : As seen there are points labelled as #¡VALOR!. Will take care of this during preprocessing."
      ],
      "metadata": {
        "id": "qGRVQdmUKWHg"
      }
    },
    {
      "cell_type": "markdown",
      "source": [
        "See the data distribution in the float dtype columns. there are 10 of them"
      ],
      "metadata": {
        "id": "bWJFTITsKx1b"
      }
    },
    {
      "cell_type": "code",
      "source": [
        "fl_columns = [col for col in data.columns if data[col].dtype == 'float64']\n",
        "plt.figure(figsize= (10,5))\n",
        "for i, col in enumerate(fl_columns):\n",
        "  plt.subplot(2,5,i + 1)\n",
        "  ax = sns.boxplot(x = col, data = data)"
      ],
      "metadata": {
        "colab": {
          "base_uri": "https://localhost:8080/",
          "height": 330
        },
        "id": "M8p2SDEXJlaW",
        "outputId": "f2fbd7b8-8032-41a8-f125-a17217b1209e"
      },
      "execution_count": 16,
      "outputs": [
        {
          "output_type": "display_data",
          "data": {
            "text/plain": [
              "<Figure size 720x360 with 10 Axes>"
            ],
            "image/png": "[encoded data removed]"
          },
          "metadata": {}
        }
      ]
    },
    {
      "cell_type": "markdown",
      "source": [
        "**Observation**: The numerical columns above contains outlier values. Though they wont affect my models as I would be using Tree-based models."
      ],
      "metadata": {
        "id": "FkBYyb3tMvL1"
      }
    },
    {
      "cell_type": "code",
      "source": [
        "# plot the correation heatmap\n",
        "plt.figure(figsize= (5,5))\n",
        "sns.heatmap(data.corr())\n",
        "plt.title('Correlation Heatmap')\n",
        "plt.show()"
      ],
      "metadata": {
        "colab": {
          "base_uri": "https://localhost:8080/",
          "height": 384
        },
        "id": "GwLBV1FiRWFH",
        "outputId": "379d10a8-30c5-46f2-b601-03833e18b14f"
      },
      "execution_count": 17,
      "outputs": [
        {
          "output_type": "display_data",
          "data": {
            "text/plain": [
              "<Figure size 360x360 with 2 Axes>"
            ],
            "image/png": "[encoded data removed]"
          },
          "metadata": {}
        }
      ]
    },
    {
      "cell_type": "markdown",
      "source": [
        "### EDA Insights"
      ],
      "metadata": {
        "id": "ctAAFAo3cruE"
      }
    },
    {
      "cell_type": "markdown",
      "source": [
        "1. maxUE_UL, maxUE_DL and maxUE_DL+UL all contains missing values. It was discovered that in most places where maxUE_UL/DL were none, the meanUE_UL/DL were also 0 and maxUE_DL+UL = #¡VALOR! if so the max values should also be zero. So the best imputation will be to fill nan values with zero.\n",
        "\n",
        "2. The goal of the task to detect unusual situations and allocate resources appropriately. With the class imbalance, it will be nice if our model can actually detect a high percentage of this unusual situations in other to allocate the right resources(high recall) and also high precision in detecting the unusual class in other not to reconfigure the base_station when its not needed thereby leading to waste of resources. A good metric that maximizes this two is F1. "
      ],
      "metadata": {
        "id": "k8RMNgkTc3vI"
      }
    }
  ]
}